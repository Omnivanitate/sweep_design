{
 "cells": [
  {
   "cell_type": "code",
   "execution_count": null,
   "metadata": {},
   "outputs": [],
   "source": [
    "from sweep_design import NamedRelation, NamedSweep\n",
    "from sweep_design.math_signals.utility_sweeps import get_linear_sweep\n",
    "from sweep_design.math_signals.utility_functions import get_time\n",
    "from sweep_design.view import get_general_view_bokeh_ipywidget\n",
    "import numpy as np"
   ]
  },
  {
   "cell_type": "code",
   "execution_count": null,
   "metadata": {},
   "outputs": [],
   "source": [
    "time = get_time(5)\n",
    "linear_sweep = get_linear_sweep(time)\n",
    "test_relation = NamedRelation(time, np.sin(time))\n",
    "new_sweep = NamedSweep(linear_sweep, name='Some Sweep')"
   ]
  },
  {
   "cell_type": "code",
   "execution_count": null,
   "metadata": {},
   "outputs": [],
   "source": [
    "view_1 = get_general_view_bokeh_ipywidget('Time, S', 'Amplitude', 'Test general view', 0.4, 0.3)\n",
    "view_2 = get_general_view_bokeh_ipywidget('Time, S', 'Frequency, Hz', 'Test view 2', 0.4, 0.3)"
   ]
  },
  {
   "cell_type": "code",
   "execution_count": null,
   "metadata": {},
   "outputs": [],
   "source": [
    "view_1.add_line(test_relation)\n",
    "view_1.add_line(new_sweep)\n",
    "view_2.add_line(new_sweep.f_t)\n",
    "view_2.add_image(new_sweep)\n"
   ]
  },
  {
   "cell_type": "code",
   "execution_count": null,
   "metadata": {},
   "outputs": [],
   "source": [
    "result_view = view_1.result_view\n",
    "v_view = result_view.v_add(view_2.result_view)\n",
    "v_view.get_output()"
   ]
  },
  {
   "cell_type": "code",
   "execution_count": null,
   "metadata": {},
   "outputs": [],
   "source": [
    "from sweep_design.view import get_general_view_matplotlib_ipywidget\n",
    "%matplotlib widget"
   ]
  },
  {
   "cell_type": "code",
   "execution_count": null,
   "metadata": {},
   "outputs": [],
   "source": [
    "view_3 =  get_general_view_matplotlib_ipywidget('Time, S', 'Amplitude', 'Test general view', 0.4, 0.3)\n",
    "view_4 =  get_general_view_matplotlib_ipywidget('Time, S', 'Frequency, Hz', 'Test view 2', 0.4, 0.3)\n",
    "view_3.add_line(test_relation)\n",
    "view_3.add_line(new_sweep)\n",
    "view_4.add_line(new_sweep.f_t)\n",
    "view_4.add_image(new_sweep)"
   ]
  },
  {
   "cell_type": "code",
   "execution_count": null,
   "metadata": {},
   "outputs": [],
   "source": [
    "result_view2 = view_3.result_view\n",
    "v_view2 = result_view2.v_add(view_4.result_view)\n",
    "v_view2.get_output()"
   ]
  }
 ],
 "metadata": {
  "kernelspec": {
   "display_name": "Python 3.9.4 ('.venv': poetry)",
   "language": "python",
   "name": "python3"
  },
  "language_info": {
   "codemirror_mode": {
    "name": "ipython",
    "version": 3
   },
   "file_extension": ".py",
   "mimetype": "text/x-python",
   "name": "python",
   "nbconvert_exporter": "python",
   "pygments_lexer": "ipython3",
   "version": "3.9.4"
  },
  "orig_nbformat": 4,
  "vscode": {
   "interpreter": {
    "hash": "d9b77620b525bf682a4cb5974ce4c361942ffea0ae5a5377c309d8862b39c277"
   }
  }
 },
 "nbformat": 4,
 "nbformat_minor": 2
}
