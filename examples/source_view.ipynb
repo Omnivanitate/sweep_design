{
 "cells": [
  {
   "cell_type": "code",
   "execution_count": null,
   "metadata": {},
   "outputs": [],
   "source": [
    "from sweep_design import NamedSweep\n",
    "from sweep_design.math_signals.utility_sweeps import get_linear_sweep\n",
    "from sweep_design.math_signals.utility_functions import get_time\n",
    "from sweep_design.view import get_view_source_bokeh_ipywidget\n",
    "import numpy as np"
   ]
  },
  {
   "cell_type": "code",
   "execution_count": null,
   "metadata": {},
   "outputs": [],
   "source": [
    "time = get_time(5)\n",
    "linear_sweep = get_linear_sweep(time)\n",
    "test_relation = NamedSweep(time, 3*np.sin(2*np.pi*time))\n",
    "new_sweep = NamedSweep(3*linear_sweep, name='Some Sweep')"
   ]
  },
  {
   "cell_type": "code",
   "execution_count": null,
   "metadata": {},
   "outputs": [],
   "source": [
    "view = get_view_source_bokeh_ipywidget(1, 2, 0.6, 0.4)\n",
    "view.add_signal(test_relation)\n",
    "view.add_signal(new_sweep)"
   ]
  },
  {
   "cell_type": "code",
   "execution_count": null,
   "metadata": {},
   "outputs": [],
   "source": [
    "view.show()"
   ]
  }
 ],
 "metadata": {
  "language_info": {
   "name": "python"
  },
  "orig_nbformat": 4
 },
 "nbformat": 4,
 "nbformat_minor": 2
}
