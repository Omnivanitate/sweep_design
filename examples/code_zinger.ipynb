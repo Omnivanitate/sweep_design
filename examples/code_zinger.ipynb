{
 "cells": [
  {
   "cell_type": "code",
   "execution_count": null,
   "metadata": {},
   "outputs": [],
   "source": [
    "from sweep_design.math_signals.utility_functions import get_time\n",
    "from sweep_design.math_signals.prepared_sweeps import get_linear_sweep\n",
    "from sweep_design.math_signals.prepared_sweeps.code_zinger import get_code_zinger\n",
    "from sweep_design import NamedRelation\n",
    "from sweep_design.view import get_general_view_bokeh_ipywidget\n"
   ]
  },
  {
   "cell_type": "code",
   "execution_count": null,
   "metadata": {},
   "outputs": [],
   "source": [
    "t = get_time(5)\n",
    "linear = get_linear_sweep(t, 1, 100, 0.5)"
   ]
  },
  {
   "cell_type": "code",
   "execution_count": null,
   "metadata": {},
   "outputs": [],
   "source": [
    "zinger = get_code_zinger(linear, periods=2)\n",
    "zinger = NamedRelation(zinger)"
   ]
  },
  {
   "cell_type": "code",
   "execution_count": null,
   "metadata": {},
   "outputs": [],
   "source": [
    "view = get_general_view_bokeh_ipywidget('Time, s', 'Amplitude', 'Code Zinger', 0.5, 0.5)\n",
    "view.add_line(zinger)"
   ]
  },
  {
   "cell_type": "code",
   "execution_count": null,
   "metadata": {},
   "outputs": [],
   "source": [
    "view.show()"
   ]
  }
 ],
 "metadata": {
  "language_info": {
   "name": "python"
  },
  "orig_nbformat": 4
 },
 "nbformat": 4,
 "nbformat_minor": 2
}
