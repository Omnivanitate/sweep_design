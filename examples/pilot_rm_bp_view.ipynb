{
 "cells": [
  {
   "cell_type": "code",
   "execution_count": null,
   "metadata": {},
   "outputs": [],
   "source": [
    "from sweep_design import NamedRelation, NamedSweep\n",
    "from sweep_design.math_signals.prepared_sweeps import get_linear_sweep\n",
    "from sweep_design.math_signals.utility_functions import get_time\n",
    "from sweep_design.view import get_pilot_rm_bp_view_bokeh_ipywidget\n",
    "import numpy as np"
   ]
  },
  {
   "cell_type": "code",
   "execution_count": null,
   "metadata": {},
   "outputs": [],
   "source": [
    "time = get_time(5)\n",
    "linear_sweep = get_linear_sweep(time)\n",
    "test_relation = NamedSweep(time, 3*np.sin(2*np.pi*time))\n",
    "new_sweep = NamedSweep(3*linear_sweep, name='Some Sweep')\n",
    "new_sweep2 = NamedSweep(3*linear_sweep, name='Some Sweep2')"
   ]
  },
  {
   "cell_type": "code",
   "execution_count": null,
   "metadata": {},
   "outputs": [],
   "source": [
    "view = get_pilot_rm_bp_view_bokeh_ipywidget(1, 1)\n",
    "view.add_pilot_rm_bp(new_sweep, new_sweep2, test_relation)"
   ]
  },
  {
   "cell_type": "code",
   "execution_count": null,
   "metadata": {},
   "outputs": [],
   "source": [
    "view.show()"
   ]
  }
 ],
 "metadata": {
  "kernelspec": {
   "display_name": "Python 3.9.4 ('.venv': poetry)",
   "language": "python",
   "name": "python3"
  },
  "language_info": {
   "name": "python",
   "version": "3.9.4"
  },
  "orig_nbformat": 4,
  "vscode": {
   "interpreter": {
    "hash": "d9b77620b525bf682a4cb5974ce4c361942ffea0ae5a5377c309d8862b39c277"
   }
  }
 },
 "nbformat": 4,
 "nbformat_minor": 2
}
