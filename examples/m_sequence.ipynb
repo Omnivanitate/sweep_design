{
 "cells": [
  {
   "cell_type": "code",
   "execution_count": null,
   "metadata": {},
   "outputs": [],
   "source": [
    "from sweep_design.math_signals.utility_functions import get_time\n",
    "from sweep_design.math_signals.prepared_sweeps.m_sequence import get_m_sequence\n",
    "from sweep_design.view import get_general_view_bokeh_ipywidget"
   ]
  },
  {
   "cell_type": "code",
   "execution_count": null,
   "metadata": {},
   "outputs": [],
   "source": [
    "time = get_time(5)\n",
    "result = get_m_sequence(time.size, 0.001, 50, 0.009, 1400, 0.2, 10, 400, True)"
   ]
  },
  {
   "cell_type": "code",
   "execution_count": null,
   "metadata": {},
   "outputs": [],
   "source": [
    "view = get_general_view_bokeh_ipywidget('Time, s', 'Amplitude', 'M-sequence', 0.5, 0.5)\n",
    "view.add_line(result)\n",
    "view.show()"
   ]
  }
 ],
 "metadata": {
  "language_info": {
   "name": "python"
  },
  "orig_nbformat": 4
 },
 "nbformat": 4,
 "nbformat_minor": 2
}
